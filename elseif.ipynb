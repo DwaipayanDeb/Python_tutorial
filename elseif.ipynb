{
 "cells": [
  {
   "cell_type": "markdown",
   "metadata": {},
   "source": [
    "### CONDITIONAL STATEMENTS:\n",
    "### if, else, elif"
   ]
  },
  {
   "cell_type": "code",
   "execution_count": 1,
   "metadata": {},
   "outputs": [
    {
     "name": "stdout",
     "output_type": "stream",
     "text": [
      "Please enter a two digit number:\n",
      "67\n",
      "Cheer! i is greater than 15\n"
     ]
    }
   ],
   "source": [
    "i = int(input('Please enter a two digit number:\\n'))\n",
    "if (i > 15):\n",
    "    print(\"Cheer! i is greater than 15\")\n",
    "else:\n",
    "    print(\"Oh! i is less than 15\")"
   ]
  },
  {
   "cell_type": "code",
   "execution_count": 2,
   "metadata": {},
   "outputs": [
    {
     "name": "stdout",
     "output_type": "stream",
     "text": [
      "Enter your mark:88\n",
      "You have passed!\n"
     ]
    }
   ],
   "source": [
    "mymark=int(input('Enter your mark:'))\n",
    "if mymark>=40:\n",
    "    print('You have passed!')\n",
    "else:\n",
    "    print('You have failed!')"
   ]
  },
  {
   "cell_type": "code",
   "execution_count": 3,
   "metadata": {},
   "outputs": [
    {
     "name": "stdout",
     "output_type": "stream",
     "text": [
      "Enter first number=88\n",
      "Enter second number=88\n",
      "Addition of two number is:  176\n"
     ]
    }
   ],
   "source": [
    "first_number = int ( input (\"Enter first number=\") )\n",
    "second_number = int ( input (\"Enter second number=\") )\n",
    "sum = first_number + second_number\n",
    "print(\"Addition of two number is: \", sum)"
   ]
  },
  {
   "cell_type": "code",
   "execution_count": 4,
   "metadata": {},
   "outputs": [
    {
     "name": "stdout",
     "output_type": "stream",
     "text": [
      "Enter first number=88\n",
      "Enter second number=55\n",
      "Addition of two number is:  143.0\n"
     ]
    }
   ],
   "source": [
    "first_numberf = float ( input (\"Enter first number=\") )\n",
    "second_numberf = float ( input (\"Enter second number=\") )\n",
    "sumf = first_numberf + second_numberf\n",
    "print(\"Addition of two number is: \", sumf)"
   ]
  },
  {
   "cell_type": "code",
   "execution_count": 5,
   "metadata": {},
   "outputs": [
    {
     "name": "stdout",
     "output_type": "stream",
     "text": [
      "Enter first number=880\n",
      "Enter second number=2\n",
      "Addition of two number is:  882.0\n"
     ]
    }
   ],
   "source": [
    "first_number = float( input (\"Enter first number=\") )\n",
    "second_number = int ( input (\"Enter second number=\") )\n",
    "sum = first_number + second_number\n",
    "print(\"Addition of two number is: \", sum)"
   ]
  },
  {
   "cell_type": "code",
   "execution_count": 6,
   "metadata": {},
   "outputs": [
    {
     "name": "stdout",
     "output_type": "stream",
     "text": [
      "Enter first number=98\n",
      "Enter second number=0\n",
      "Bye! Not interested\n"
     ]
    }
   ],
   "source": [
    "first_number = int ( input (\"Enter first number=\") )\n",
    "second_number = int ( input (\"Enter second number=\") )\n",
    "sum = first_number + second_number\n",
    "if sum>=100:\n",
    "    print(\"Selected! Addition of two number is: \", sum)\n",
    "else:\n",
    "    print(\"Bye! Not interested\")"
   ]
  },
  {
   "cell_type": "code",
   "execution_count": 1,
   "metadata": {},
   "outputs": [
    {
     "name": "stdout",
     "output_type": "stream",
     "text": [
      "Please type your mood:\n",
      "Fine\n",
      "Let's enjoy a movie Fine\n"
     ]
    }
   ],
   "source": [
    "yourmood = input(\"Please type your mood:\\n\")\n",
    "if yourmood=='Fine':\n",
    "    print(\"Let's enjoy a movie\", yourmood ) \n",
    "else:\n",
    "    print(\"Oh! Go to doctor\" )"
   ]
  },
  {
   "cell_type": "code",
   "execution_count": 8,
   "metadata": {},
   "outputs": [
    {
     "name": "stdout",
     "output_type": "stream",
     "text": [
      "Please enter the name of first fruit:\n",
      "Mango\n",
      "Please enter the name of second fruit:\n",
      "Apple\n",
      "Mango comes after Apple in the dictionary.\n"
     ]
    }
   ],
   "source": [
    "fruit1 = input('Please enter the name of first fruit:\\n')\n",
    "fruit2 = input('Please enter the name of second fruit:\\n')\n",
    "\n",
    "if fruit1 < fruit2:\n",
    "    print(fruit1 + \" comes before \" + fruit2 + \" in the dictionary.\")\n",
    "elif fruit1 > fruit2:\n",
    "    print(fruit1 + \" comes after \" + fruit2 + \" in the dictionary.\")\n",
    "else:\n",
    "    print(fruit1 + \" and \" + fruit2 + \" are same.\")"
   ]
  },
  {
   "cell_type": "code",
   "execution_count": 9,
   "metadata": {},
   "outputs": [
    {
     "name": "stdout",
     "output_type": "stream",
     "text": [
      "Please enter the name of first fruit:\n",
      "Apple\n"
     ]
    }
   ],
   "source": [
    "fruit1 = input('Please enter the name of first fruit:\\n')\n",
    "if fruit1=='mango':\n",
    "    print(\" My fruit is \" + fruit1)\n",
    "else:\n",
    "    exit()"
   ]
  },
  {
   "cell_type": "code",
   "execution_count": 11,
   "metadata": {},
   "outputs": [
    {
     "name": "stdout",
     "output_type": "stream",
     "text": [
      "Both conditions are True\n"
     ]
    }
   ],
   "source": [
    "a = 200\n",
    "b = 33\n",
    "c = 500\n",
    "if a > b and c > a:\n",
    "    print(\"Both conditions are True\")"
   ]
  },
  {
   "cell_type": "code",
   "execution_count": 8,
   "metadata": {},
   "outputs": [
    {
     "name": "stdout",
     "output_type": "stream",
     "text": [
      "At least one of the conditions is True\n"
     ]
    }
   ],
   "source": [
    "a = 200\n",
    "b = 33\n",
    "c = 500\n",
    "if a > b or a > c:\n",
    "    print(\"At least one of the conditions is True\")"
   ]
  },
  {
   "cell_type": "code",
   "execution_count": 6,
   "metadata": {},
   "outputs": [
    {
     "name": "stdout",
     "output_type": "stream",
     "text": [
      "Enter a number:77\n",
      "Positive number\n"
     ]
    }
   ],
   "source": [
    "# To check if a number is positive, Negative or Zero. \n",
    "num=int(input(\"Enter a number:\" ) )\n",
    "if num > 0:\n",
    "    print(\"Positive number\")\n",
    "elif num == 0:\n",
    "    print(\"Zero\")\n",
    "else:\n",
    "    print(\"Negative number\")"
   ]
  },
  {
   "cell_type": "code",
   "execution_count": 7,
   "metadata": {},
   "outputs": [
    {
     "name": "stdout",
     "output_type": "stream",
     "text": [
      "Enter your subject:Python\n",
      " I will be learning it! \n"
     ]
    }
   ],
   "source": [
    "mysubject=input(\"Enter your subject:\")\n",
    "if mysubject=='Python':\n",
    "    print(\" I will be learning it! \")\n",
    "else:\n",
    "    exit()"
   ]
  },
  {
   "cell_type": "code",
   "execution_count": 8,
   "metadata": {},
   "outputs": [
    {
     "name": "stdout",
     "output_type": "stream",
     "text": [
      "Enter your subject:Rust\n",
      " I am not interested! \n"
     ]
    }
   ],
   "source": [
    "mysubject=input(\"Enter your subject:\")\n",
    "if mysubject=='Python':\n",
    "    print(\" I will be learning it! \")\n",
    "else:\n",
    "    print(\" I am not interested! \")"
   ]
  },
  {
   "cell_type": "code",
   "execution_count": 10,
   "metadata": {},
   "outputs": [
    {
     "name": "stdout",
     "output_type": "stream",
     "text": [
      "What is the temperature? 44\n",
      "Not necessary\n"
     ]
    }
   ],
   "source": [
    "temperature = float(input('What is the temperature? '))\n",
    "if temperature < 15:\n",
    "    print('Wear warm clothing!')\n",
    "else:\n",
    "    print('Not necessary')"
   ]
  },
  {
   "cell_type": "code",
   "execution_count": 11,
   "metadata": {},
   "outputs": [
    {
     "name": "stdout",
     "output_type": "stream",
     "text": [
      "Enter a number: -8\n",
      "Negative number\n"
     ]
    }
   ],
   "source": [
    "num = float(input(\"Enter a number: \"))\n",
    "if num >= 0:\n",
    "    if num == 0:\n",
    "        print(\"Zero\")\n",
    "    else:\n",
    "        print(\"Positive number\")\n",
    "else:\n",
    "    print(\"Negative number\")"
   ]
  },
  {
   "cell_type": "code",
   "execution_count": 12,
   "metadata": {},
   "outputs": [
    {
     "name": "stdout",
     "output_type": "stream",
     "text": [
      "How many kilo your suitcase weigh? 70\n",
      "You are a careless guy!\n"
     ]
    }
   ],
   "source": [
    "weight = float(input(\"How many kilo your suitcase weigh? \"))\n",
    "if weight > 50:\n",
    "    print(\"You are a careless guy!\")\n",
    "elif weight == 50:\n",
    "    print(\"You have a unmindful guy!\")\n",
    "else:\n",
    "    print(\"You are an intelligent guy!\")"
   ]
  },
  {
   "cell_type": "code",
   "execution_count": 13,
   "metadata": {},
   "outputs": [
    {
     "name": "stdout",
     "output_type": "stream",
     "text": [
      "Are you a student of X College?:yes\n",
      "Do you belong to Physics Department of X College?:yes\n",
      "Do you belong any other college?:No\n",
      "Sorry, You are not allowed to attend this course!\n"
     ]
    }
   ],
   "source": [
    "criterion1 = input(\"Are you a student of X College?:\" )\n",
    "criterion2 = input(\"Do you belong to Physics Department of X College?:\" )\n",
    "criterion3 = input(\"Do you belong any other college?:\" )\n",
    "if criterion1 == 'yes' and criterion2 =='yes' and criterion3 =='no':\n",
    "    print(\"Fine, You are welcome to attend this course free!\" )\n",
    "elif criterion1 == 'yes' and criterion2 =='no' and criterion3 =='no':\n",
    "    print(\"You are allowed to attend this course with Registration Fee Rs 500 only!\" )\n",
    "elif criterion3 =='yes':\n",
    "    print(\"You are allowed to attend this course with Registration Fee Rs 1000 only!\" )\n",
    "else: \n",
    "    print(\"Sorry, You are not allowed to attend this course!\" )"
   ]
  },
  {
   "cell_type": "code",
   "execution_count": 7,
   "metadata": {},
   "outputs": [
    {
     "name": "stdout",
     "output_type": "stream",
     "text": [
      "Finding divisible of 5 in a list\n",
      "10\n",
      "20\n",
      "55\n"
     ]
    }
   ],
   "source": [
    "def findDivisible(numberList):\n",
    "    for num in numberList:\n",
    "        if (num % 5 == 0):\n",
    "            print(num)\n",
    "numList = [10, 20, 33, 46, 55]\n",
    "print(\"Finding divisible of 5 in a list\")\n",
    "findDivisible(numList)"
   ]
  },
  {
   "cell_type": "code",
   "execution_count": 16,
   "metadata": {},
   "outputs": [
    {
     "name": "stdout",
     "output_type": "stream",
     "text": [
      "Quadratic function : (a * x^2) + b*x + c\n",
      "a: 4\n",
      "b: 2\n",
      "c: 25\n",
      "No roots, discriminant < 0.\n"
     ]
    }
   ],
   "source": [
    "from math import sqrt\n",
    "\n",
    "print(\"Quadratic function : (a * x^2) + b*x + c\")\n",
    "a = float(input(\"a: \"))\n",
    "b = float(input(\"b: \"))\n",
    "c = float(input(\"c: \"))\n",
    "\n",
    "disc = b**2 - 4*a*c\n",
    "\n",
    "if disc > 0:\n",
    "    num_roots = 2\n",
    "    x1 = (((-b) + sqrt(disc))/(2*a))     \n",
    "    x2 = (((-b) - sqrt(disc))/(2*a))\n",
    "    print(\"There are 2 roots: %f and %f\" % (x1, x2))\n",
    "elif disc == 0:\n",
    "    num_roots = 1\n",
    "    x = (-b) / 2*a\n",
    "    print(\"There is one root: \", x)\n",
    "else:\n",
    "    num_roots = 0\n",
    "    print(\"No roots, discriminant < 0.\")\n",
    "    exit()"
   ]
  },
  {
   "cell_type": "code",
   "execution_count": 13,
   "metadata": {},
   "outputs": [],
   "source": [
    "quit()"
   ]
  }
 ],
 "metadata": {
  "kernelspec": {
   "display_name": "Python 3",
   "language": "python",
   "name": "python3"
  },
  "language_info": {
   "codemirror_mode": {
    "name": "ipython",
    "version": 3
   },
   "file_extension": ".py",
   "mimetype": "text/x-python",
   "name": "python",
   "nbconvert_exporter": "python",
   "pygments_lexer": "ipython3",
   "version": "3.6.5"
  }
 },
 "nbformat": 4,
 "nbformat_minor": 2
}
